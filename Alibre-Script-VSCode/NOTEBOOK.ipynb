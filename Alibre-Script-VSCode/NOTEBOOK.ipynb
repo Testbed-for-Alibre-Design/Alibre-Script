{
 "cells": [
  {
   "cell_type": "markdown",
   "metadata": {},
   "source": [
    "# AlibreScript API + VS Code"
   ]
  },
  {
   "cell_type": "code",
   "execution_count": 1,
   "metadata": {},
   "outputs": [],
   "source": [
    "from AlibreScript import *"
   ]
  },
  {
   "cell_type": "code",
   "execution_count": null,
   "metadata": {},
   "outputs": [],
   "source": [
    "Win = Windows()\n",
    "Win.InfoDialog(\"Test Is A Test\",\"Testing\")"
   ]
  },
  {
   "cell_type": "code",
   "execution_count": null,
   "metadata": {},
   "outputs": [],
   "source": [
    "Win = Windows()\n",
    "Win.InfoDialog(\"asdfasdf\",\"adsf\")\n",
    "P = Part(\"asdf\")\n",
    "Win.ErrorDialog(\"adsf\")\n",
    "P.AddPlane(\"adf\",\"asdf\")\n",
    "P.ShowFeature(\"asdf\")\n",
    "\n"
   ]
  },
  {
   "cell_type": "code",
   "execution_count": null,
   "metadata": {},
   "outputs": [],
   "source": [
    "#https://help.alibre.com/articles/#!alibre-help-v23/triangle\n",
    "\n",
    "# Create triangle with angles 90, 15, 75\n",
    " \n",
    "import math\n",
    "\n",
    "# set up parameters\n",
    "Theta = 15.0\n",
    "Adjacent = 100.0\n",
    " \n",
    "# calculate side\n",
    "Opposite = Adjacent * math.tan(math.radians(Theta))\n",
    "\n",
    "# generate three vertices of triangle\n",
    "P1_X = 0\n",
    "P1_Y = 0\n",
    " \n",
    "P2_X = Adjacent\n",
    "P2_Y = 0\n",
    " \n",
    "P3_X = Adjacent\n",
    "P3_Y = Opposite\n",
    " \n",
    "# create part and sketch\n",
    "P = Part('Foo')\n",
    "\n",
    "def figures():\n",
    "    # draw it\n",
    "    Sketch.AddLine(P1_X, P1_Y, P2_X, P2_Y, False)\n",
    "    Sketch.AddLine(P2_X, P2_Y, P3_X, P3_Y, False)\n",
    "    Sketch.AddLine(P3_X, P3_Y, P1_X, P1_Y, False)\n",
    "\n",
    "\n",
    "Sketch = P.AddSketch('Shape', P.GetPlane('XY-Plane'))"
   ]
  }
 ],
 "metadata": {
  "kernelspec": {
   "display_name": "Python 3",
   "language": "python",
   "name": "python3"
  },
  "language_info": {
   "codemirror_mode": {
    "name": "ipython",
    "version": 3
   },
   "file_extension": ".py",
   "mimetype": "text/x-python",
   "name": "python",
   "nbconvert_exporter": "python",
   "pygments_lexer": "ipython3",
   "version": "3.11.5"
  },
  "orig_nbformat": 4
 },
 "nbformat": 4,
 "nbformat_minor": 2
}
