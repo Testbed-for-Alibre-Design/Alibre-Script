{
 "cells": [
  {
   "cell_type": "code",
   "execution_count": null,
   "metadata": {
    "dotnet_interactive": {
     "language": "csharp"
    },
    "polyglot_notebook": {
     "kernelName": "csharp"
    }
   },
   "outputs": [],
   "source": [
    "from AlibreScript import *"
   ]
  },
  {
   "cell_type": "code",
   "execution_count": null,
   "metadata": {},
   "outputs": [],
   "source": [
    "MyPart = Part('My Part')\n",
    "XYPlane = MyPart.GetPlane('XY-Plane')\n",
    "\n",
    "def Figures():\n",
    "    # set units to mm - this is implied at the start of every script\n",
    "    Units.Current = UnitTypes.Millimeters\n",
    "    # create circle 50mm in diameter\n",
    "    Sketch.AddCircle(0, 0, 50, False)\n",
    "    \n",
    "    # set units to inches\n",
    "    # all values from now on are in inches\n",
    "    Units.Current = UnitTypes.Inches\n",
    "    # create a circle 1.34 inches in diameter\n",
    "    Sketch.AddCircle(0, 0, 1.34, False)\n",
    "    # switch to cm\n",
    "    # now all values from this point until the next units change are in cm\n",
    "    Units.Current = UnitTypes.Centimeters\n",
    "    # create a circle 4.2cm in diameter\n",
    "    Sketch.AddCircle(0, 0, 4.2, False)\n",
    "\n",
    "Sketch = MyPart.AddSketch('Sketch', XYPlane)\n",
    "\n",
    "Figures()"
   ]
  },
  {
   "cell_type": "code",
   "execution_count": null,
   "metadata": {},
   "outputs": [],
   "source": [
    "from AlibreScript import *\n",
    "\n",
    "Win = Windows()\n",
    "\n",
    "Win.InfoDialog('I am about to create a part', 'My Script')\n",
    " \n",
    "Win.ErrorDialog(\"Oops. That didn't go as planned\", 'My Script')\n",
    " \n",
    "print(Win.QuestionDialog('Shall I stop?', 'My Script'))\n",
    "\n",
    "Win.InfoDialog()\n",
    "\n",
    "mypart = Part()\n",
    "\n",
    "mypart.Add3DSketch(\"af\")"
   ]
  },
  {
   "cell_type": "code",
   "execution_count": null,
   "metadata": {},
   "outputs": [],
   "source": [
    "parm = Parameter\n",
    "\n",
    "MyPart = Part(\"Foo\")\n",
    "\n",
    "LengthParm = MyPart.AddParameter('Length',ParameterTypes.Distance,123.4)\n",
    "\n",
    "print('asdfasd',LengthParm.Value) "
   ]
  }
 ],
 "metadata": {
  "kernelspec": {
   "display_name": "Python 3",
   "language": "python",
   "name": "python3"
  },
  "language_info": {
   "name": "python",
   "version": "3.9.18"
  },
  "polyglot_notebook": {
   "kernelInfo": {
    "defaultKernelName": "csharp",
    "items": [
     {
      "aliases": [],
      "languageName": "csharp",
      "name": "csharp"
     }
    ]
   }
  }
 },
 "nbformat": 4,
 "nbformat_minor": 2
}
